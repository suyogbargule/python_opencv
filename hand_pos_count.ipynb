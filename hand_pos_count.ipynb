{
 "cells": [
  {
   "cell_type": "code",
   "execution_count": 44,
   "metadata": {},
   "outputs": [],
   "source": [
    "import os\n",
    "import cv2\n",
    "import numpy as np\n",
    "import mediapipe as mp\n",
    "import uuid\n",
    "import requests\n",
    "import imutils\n",
    "import time"
   ]
  },
  {
   "cell_type": "code",
   "execution_count": 37,
   "metadata": {},
   "outputs": [],
   "source": [
    "mp_drawing = mp.solutions.drawing_utils\n",
    "mp_hands = mp.solutions.hands"
   ]
  },
  {
   "cell_type": "code",
   "execution_count": 43,
   "metadata": {},
   "outputs": [],
   "source": [
    "url = \"http://192.168.107.216:8080/shot.jpg\"\n",
    "handno = 0\n",
    "drowing = False\n",
    "fingarid = [4,8,12,16,20]\n",
    "with mp_hands.Hands(min_detection_confidence=0.8, min_tracking_confidence=0.5) as hands: \n",
    "    while True:\n",
    "        # Load Images to mobile\n",
    "        img_resp = requests.get(url)\n",
    "        img_arr = np.array(bytearray(img_resp.content), dtype=np.uint8)\n",
    "        img = cv2.imdecode(img_arr, -1)\n",
    "        frame = imutils.resize(img, width=800, height=1000)\n",
    "        \n",
    "        #Hand landmark\n",
    "        image = cv2.cvtColor(frame, cv2.COLOR_BGR2RGB)\n",
    "        image = cv2.flip(image, 1)\n",
    "        image.flags.writeable = False\n",
    "        results = hands.process(image)\n",
    "        image.flags.writeable = True\n",
    "        image = cv2.cvtColor(image, cv2.COLOR_RGB2BGR)\n",
    "        if results.multi_hand_landmarks:\n",
    "            for num, hand in enumerate(results.multi_hand_landmarks):\n",
    "                mp_drawing.draw_landmarks(image, hand, mp_hands.HAND_CONNECTIONS, \n",
    "                                        mp_drawing.DrawingSpec(color=(255,20,147), thickness=2, circle_radius=4),\n",
    "                                        mp_drawing.DrawingSpec(color=(127,255,0), thickness=2, circle_radius=2),\n",
    "                )\n",
    "        # Detect Hand Position\n",
    "        array_landmar = []\n",
    "        if results.multi_hand_landmarks:\n",
    "            myhand = results.multi_hand_landmarks[handno]\n",
    "            for id ,m in enumerate(myhand.landmark):\n",
    "                h,w,c = image.shape\n",
    "                cx,cy = int(m.x * w) , int(m.y * h)\n",
    "                array_landmar.append([id ,cx, cy])\n",
    "                if drowing:\n",
    "                    cv2.circle(image,(cx,cy),15,(255,0,255),cv2.FILLED)\n",
    "        \n",
    "        # Count Numbers\n",
    "        if len(array_landmar) != 0:\n",
    "            count = []\n",
    "            if array_landmar[fingarid[0]][1] > array_landmar[fingarid[0] - 1][1]:\n",
    "                count.append(1)\n",
    "            else:\n",
    "                count.append(0)\n",
    "\n",
    "            for n in range(1 ,5):\n",
    "                if array_landmar[fingarid[n]][2] < array_landmar[fingarid[n] - 2][2]:\n",
    "                    count.append(1)\n",
    "                else:\n",
    "                    count.append(0)\n",
    "            total_count = count.count(1)\n",
    "\n",
    "            cv2.putText(image,str(total_count),(650,420),cv2.FONT_HERSHEY_PLAIN,8,(148,0,211),10)\n",
    "      \n",
    "        # Show Images\n",
    "        cv2.imshow('Hand Tracking', image)\n",
    "        \n",
    "        # Close window using a keyword\n",
    "        if cv2.waitKey(10) & 0xFF == ord('q'):\n",
    "            break\n",
    "\n",
    "        \n",
    "cv2.destroyAllWindows()"
   ]
  },
  {
   "cell_type": "code",
   "execution_count": null,
   "metadata": {},
   "outputs": [],
   "source": []
  }
 ],
 "metadata": {
  "interpreter": {
   "hash": "f4a40449341b76fadd8d2df8d642f9b57924b0cb2df12eefbb9adfd0e07519c9"
  },
  "kernelspec": {
   "display_name": "Python 3.8.8 64-bit ('base': conda)",
   "language": "python",
   "name": "python3"
  },
  "language_info": {
   "codemirror_mode": {
    "name": "ipython",
    "version": 3
   },
   "file_extension": ".py",
   "mimetype": "text/x-python",
   "name": "python",
   "nbconvert_exporter": "python",
   "pygments_lexer": "ipython3",
   "version": "3.8.8"
  },
  "orig_nbformat": 4
 },
 "nbformat": 4,
 "nbformat_minor": 2
}
